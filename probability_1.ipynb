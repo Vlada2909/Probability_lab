{
 "cells": [
  {
   "cell_type": "code",
   "execution_count": 2,
   "metadata": {
    "collapsed": false
   },
   "outputs": [
    {
     "name": "stdout",
     "output_type": "stream",
     "text": [
      "Задача 1.3 (а)\n",
      "Перестановки множини set([1, 3, 5]): set([(3, 5, 1), (5, 3, 1), (1, 5, 3), (3, 1, 5), (1, 3, 5), (5, 1, 3)])\n",
      "Кількість перестановок: 6 \n",
      "Перестановки множини set([1, 2, 3, 4]): set([(4, 1, 2, 3), (3, 4, 1, 2), (1, 4, 2, 3), (4, 2, 3, 1), (2, 4, 1, 3), (2, 1, 3, 4), (3, 1, 4, 2), (3, 2, 4, 1), (4, 3, 1, 2), (1, 3, 2, 4), (1, 3, 4, 2), (1, 2, 4, 3), (4, 2, 1, 3), (2, 4, 3, 1), (3, 1, 2, 4), (4, 1, 3, 2), (2, 3, 1, 4), (1, 2, 3, 4), (1, 4, 3, 2), (3, 4, 2, 1), (2, 3, 4, 1), (4, 3, 2, 1), (3, 2, 1, 4), (2, 1, 4, 3)])\n",
      "Кількість перестановок: 24 \n",
      "Перестановки множини set([1, 2]): set([(1, 2), (2, 1)])\n",
      "Кількість перестановок: 2 \n"
     ]
    }
   ],
   "source": [
    "print(\"Задача 1.3 (а)\")\n",
    "from itertools import permutations\n",
    "A = {1,3,5}\n",
    "B = {1, 2, 3, 4}\n",
    "C = {1, 2, 2, 1}\n",
    "p = [A,B,C]\n",
    "for i in p:\n",
    "    permute_all = set(permutations(i))\n",
    "    print(\"Перестановки множини {}: {}\".format(i,permute_all))\n",
    "    print(\"Кількість перестановок: {} \".format(len(permute_all)))"
   ]
  },
  {
   "cell_type": "code",
   "execution_count": 1,
   "metadata": {
    "collapsed": false
   },
   "outputs": [
   ],
   "source": [
    "from itertools import permutations\n",
    "print(\"Задача 1.3 (б)\")\n",
    "A1 = {1, 2, 3, 4, 5}\n",
    "B1 = {1, 2, 3, 4, 5, 6, 7}\n",
    "C1 = {1, 3, 5, 7, 9, 11, 13, 15, 17, 19}\n",
    "p1 = [A1,B1,C1]\n",
    "for i in p1:\n",
    "    permute_all = set(permutations(i))\n",
    "    print(\"Кількість перестановок {}: {} \".format(i,len(permute_all)))"
   ]
  },
  {
   "cell_type": "code",
   "execution_count": 0,
   "metadata": {
    "collapsed": false
   },
   "outputs": [
   ],
   "source": [
   ]
  }
 ],
 "metadata": {
  "kernelspec": {
   "display_name": "SageMath (stable)",
   "language": "sagemath",
   "name": "sagemath"
  }
 },
 "nbformat": 4,
 "nbformat_minor": 0
}