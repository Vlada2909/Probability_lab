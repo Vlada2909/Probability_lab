{
 "cells": [
  {
   "cell_type": "markdown",
   "metadata": {
    "collapsed": false
   },
   "source": [
    "# Домашня робота №6"
   ]
  },
  {
   "cell_type": "markdown",
   "metadata": {
    "collapsed": false
   },
   "source": [
    "# Математичне сподівання та дисперсія"
   ]
  },
  {
   "cell_type": "markdown",
   "metadata": {
    "collapsed": false
   },
   "source": [
    "## 1 Порівняння"
   ]
  },
  {
   "cell_type": "markdown",
   "metadata": {
    "collapsed": false
   },
   "source": [
    "1. Реалізуйте функцію для підрахунку математичного сподівання випадкової величини $\\xi$, заданої в класі **scipy.stats**, усіма можливими способами:\n",
    "   - за допомогою методу **mean**;\n",
    "   - за допомогою методу **expect**;\n",
    "   - за допомогою методу **stats**.\n",
    "\n",
    "2. Реалізуйте функцію для підрахунку дисперсії випадкової величини $\\xi$, заданої в класі **scipy.stats**, усіма можливими способами:\n",
    "   - за допомогою методу **var**;\n",
    "   - за допомогою методу **expect** та формули для дисперсії \n",
    "$\\mathsf{D}(\\xi) = \\mathsf{E} \\left[ \\left( \\xi - \\mathsf{E}[\\xi] \\right)^2 \\right]$;\n",
    "   - за допомогою методу **expect** та формули для дисперсії\n",
    "$\\mathsf{D}(\\xi) = \\mathsf{E}[\\xi^2] - \\left( \\mathsf{E}[\\xi] \\right)^2$;\n",
    "   - за допомогою методу **stats**.\n",
    "\n",
    "3. Порахуйте математичне сподівання та дисперсію, використовуючи функції з пунктів **1., 2.**, і порівняйте (виведіть різницю) їх із теоретичними значеннями, використовуючи формули з лекцій, для таких випадкових величин:\n",
    "   - $\\xi \\sim Binom(10, 0.4)$ (біноміальний розподіл);\n",
    "   - $\\xi \\sim Geom(0.5)$ (геометричний розподіл);\n",
    "   - $\\xi \\sim Pois(0.6)$ (розподіл Пуассона);\n",
    "   - $\\xi \\sim NBinom(5, 0.4)$ (від'ємний біноміальний розподіл);\n",
    "   - $\\xi \\sim HGeom(20, 7, 12)$ (гіпергеометричний розподіл);\n",
    "   - $\\xi \\sim Unif(0, 1)$ (рівномірний розподіл);\n",
    "   - $\\xi \\sim Exp(0.5)$ (експоненційний (показниковий) розподіл);\n",
    "   - $\\xi \\sim N(0, 1)$ (нормальний розподіл);\n",
    "   - $\\xi \\sim \\Gamma(2)$ (гамма розподіл);\n",
    "   - $\\xi \\sim LogNorm(0, 1)$ (логнормальний розподіл);\n",
    "   - $\\xi \\sim B(2, 1.1)$ (бета розподіл)."
   ]
  },
  {
   "cell_type": "code",
   "execution_count": 4,
   "metadata": {
    "collapsed": false
   },
   "outputs": [
    {
     "name": "stdout",
     "output_type": "stream",
     "text": [
      "Binom  (expectation = 4.0, variance = 2.4)\n",
      "Expectation by three means: mean,expect,stats 4.0 4.0000000000000036 4.0 difference with theoretical meaning: 0.0\n",
      "Variation: 2.4 2.4000000000000012 2.399999999999995 2.4 difference with theoretical meaning: 0.0\n",
      "\n",
      "------------------------------------------------------------\n",
      "geom  (expectation = 2.0, variance = 2.0)\n",
      "Expectation by three means: mean,expect,stats 2.0 2.0 2.0 difference with theoretical meaning: 0.0\n",
      "Variation: 2.0 2.0 2.0 2.0 difference with theoretical meaning: 0.0\n",
      "\n",
      "------------------------------------------------------------\n",
      "pois  (expectation = 0.6, variance = 0.6)\n",
      "Expectation by three means: mean,expect,stats 0.6 0.6 0.6 difference with theoretical meaning: 0.0\n",
      "Variation: 0.6 0.5999999999999999 0.6 0.6 difference with theoretical meaning: 0.0\n",
      "\n",
      "------------------------------------------------------------\n",
      "nbinom  (expectation = 7.5, variance = 18.749999999999996)\n",
      "Expectation by three means: mean,expect,stats 7.5 7.500000000000006 7.5 difference with theoretical meaning: 0.0\n",
      "Variation: 18.75 18.750000000000007 18.749999999999964 18.75 difference with theoretical meaning: -3.552713678800501e-15\n",
      "\n",
      "------------------------------------------------------------\n",
      "hgeom  (expectation = 4.2, variance = 1.1494736842105262)\n",
      "Expectation by three means: mean,expect,stats 4.199999999999999 4.199999999999995 4.199999999999999 difference with theoretical meaning: 8.881784197001252e-16\n",
      "Variation: 1.1494736842105264 1.1494736842105246 1.149473684210541 1.1494736842105264 difference with theoretical meaning: -2.220446049250313e-16\n",
      "\n",
      "------------------------------------------------------------\n",
      "uniform  (expectation = 0.5, variance = 0.08333333333333333)\n",
      "Expectation by three means: mean,expect,stats 0.5 0.5 0.5 difference with theoretical meaning: 0.0\n",
      "Variation: 0.08333333333333333 0.08333333333333333 0.08333333333333337 0.08333333333333333 difference with theoretical meaning: 0.0\n",
      "\n",
      "------------------------------------------------------------\n",
      "exponential  (expectation = 2.0, variance = 4.0)\n"
     ]
    },
    {
     "name": "stdout",
     "output_type": "stream",
     "text": [
      "Expectation by three means: mean,expect,stats 2.0 1.9999999999999998 2.0 difference with theoretical meaning: 0.0\n",
      "Variation: 4.0 4.0 4.000000000000001 4.0 difference with theoretical meaning: 0.0\n",
      "\n",
      "------------------------------------------------------------\n",
      "normal  (expectation = 0, variance = 1)\n"
     ]
    },
    {
     "name": "stdout",
     "output_type": "stream",
     "text": [
      "Expectation by three means: mean,expect,stats 0.0 0.0 0.0 difference with theoretical meaning: 0.0\n",
      "Variation: 1.0 1.000000000000001 1.000000000000001 1.0 difference with theoretical meaning: 0.0\n",
      "\n",
      "------------------------------------------------------------\n",
      "gamma  (expectation = 2, variance = 2)\n"
     ]
    },
    {
     "name": "stdout",
     "output_type": "stream",
     "text": [
      "Expectation by three means: mean,expect,stats 2.0 2.0 2.0 difference with theoretical meaning: 0.0\n",
      "Variation: 2.0 2.0000000000000004 2.0 2.0 difference with theoretical meaning: 0.0\n",
      "\n",
      "------------------------------------------------------------\n",
      "lognorm  (expectation = 1.6487212707001282, variance = 4.670774270471604)\n"
     ]
    },
    {
     "name": "stdout",
     "output_type": "stream",
     "text": [
      "Expectation by three means: mean,expect,stats 1.6487212707001282 1.6487212706999776 1.6487212707001282 difference with theoretical meaning: 0.0\n",
      "Variation: 4.670774270471604 4.670774270452187 4.670774270429307 4.670774270471604 difference with theoretical meaning: 0.0\n",
      "\n",
      "------------------------------------------------------------\n",
      "beta  (expectation = 0.6451612903225806, variance = 0.055836146290703284)\n"
     ]
    },
    {
     "name": "stdout",
     "output_type": "stream",
     "text": [
      "Expectation by three means: mean,expect,stats 0.6451612903225806 0.6451612903225803 0.6451612903225806 difference with theoretical meaning: 0.0\n",
      "Variation: 0.05583614629070329 0.055836146290680275 0.05583614629070349 0.05583614629070329 difference with theoretical meaning: -6.938893903907228e-18\n",
      "\n",
      "------------------------------------------------------------\n"
     ]
    }
   ],
   "source": [
    "import scipy.stats as stat\n",
    "import numpy as np\n",
    "\n",
    "\n",
    "def expectation1(xi):\n",
    "    return xi.mean()\n",
    "\n",
    "\n",
    "def expectation2(xi):\n",
    "    return xi.expect()\n",
    "\n",
    "\n",
    "def expectation3(xi):\n",
    "    return xi.stats()[0]\n",
    "\n",
    "\n",
    "def variance(xi):\n",
    "    def func1(x):\n",
    "        return (x - xi.expect()) ** 2\n",
    "    \n",
    "    def func2(x):\n",
    "        return x ** 2\n",
    "    \n",
    "    return [xi.var(), xi.expect(func1), xi.expect(func2) - xi.expect() ** 2, xi.stats()[1]]\n",
    "\n",
    "\n",
    "distributions = [('Binom', stat.binom(n=10, p=0.4), 10 * 0.4, 10 * 0.4 * 0.6), \n",
    "         ('geom', stat.geom(p=0.5), 1/0.5, 1 / 0.5),\n",
    "         ('pois', stat.poisson(0.6), 0.6, 0.6),\n",
    "         ('nbinom', stat.nbinom(n=5, p=0.4), 5*0.6 / 0.4, 0.6 * 5 / 0.4**2),\n",
    "         ('hgeom', stat.hypergeom(M=20, n=7, N=12), 7*12/20, 7*12*13*8 / 20**2 / 19),\n",
    "         ('uniform', stat.uniform(loc=0, scale=1), 1 / 2, 1 / 12), \n",
    "         ('exponential', stat.expon(loc=0, scale=1/0.5), 1/0.5, 1/0.5**2),\n",
    "         ('normal', stat.norm(0, 1), 0, 1),\n",
    "         ('gamma', stat.gamma(2), 2, 2), \n",
    "         ('lognorm', stat.lognorm(s=1, loc=0, scale=1), np.exp(0.5), (np.exp(1) - 1) * np.exp(1)), \n",
    "         ('beta', stat.beta(2, 1.1), 2 / 3.1, 2.2 / (3.1**2*4.1))]\n",
    "\n",
    "\n",
    "for name, xi, m_t, v_t in distributions:\n",
    "    print('{}  (expectation = {}, variance = {})'.format(name, m_t, v_t))\n",
    "    e1 = expectation1(xi)\n",
    "    e2 = expectation2(xi)\n",
    "    e3 = expectation3(xi)\n",
    "    v = variance(xi)\n",
    "    print( 'Expectation by three means: mean,expect,stats',e1,e2,e3, 'difference with theoretical meaning: {}'.format(  m_t-e1))\n",
    "    print('Variation:', *v,  'difference with theoretical meaning: {}\\n'.format( v_t-v[0]))\n",
    "    print('------------------------------------------------------------')\n"
   ]
  },
  {
   "cell_type": "markdown",
   "metadata": {
    "collapsed": false
   },
   "source": [
    "## 2 Унікальні цифри"
   ]
  },
  {
   "cell_type": "markdown",
   "metadata": {
    "collapsed": false
   },
   "source": [
    "Нехай випадковим чином вибирають послідовно $n$ цифр (цифри можуть повторюватися, вибірка з поверненням).\n",
    "Нехай тоді випадкова величина $\\xi$ - це кількість унікальних цифр в отриманому наборі.\n",
    "\n",
    "Напишіть функцію для обрахунку математичного сподівання та дисперсії випадкової величини $\\xi$ в залежності від кількості $n$ цифр у наборі методом повного перебору.\n",
    "Виведіть результат для $n = 1, 2, 3, 4, 5, 6, 7.$"
   ]
  },
  {
   "cell_type": "code",
   "execution_count": 1,
   "metadata": {
    "collapsed": false
   },
   "outputs": [
    {
     "name": "stdout",
     "output_type": "stream",
     "text": [
      "n = 1: E = 1.0; D = 0.0\n",
      "n = 2: E = 1.9000000000000001; D = 0.08999999999999986\n",
      "n = 3: E = 2.71; D = 0.22589999999999932\n",
      "n = 4: E = 3.439; D = 0.37827899999999914\n",
      "n = 5: E = 4.0951; D = 0.5282559899999946\n"
     ]
    }
   ],
   "source": [
    "import numpy as np\n",
    "from itertools import product\n",
    "\n",
    "def dis_function(lst, n):\n",
    "    p = np.zeros((n+1,), dtype=int)\n",
    "    for i in lst:\n",
    "        p[len(set(i))] += 1\n",
    "    return p / len(lst)\n",
    "\n",
    "def expectation(xk, p):\n",
    "    a = sum(xk * p)\n",
    "    return a\n",
    "\n",
    "numbers = [1,2,3,4,5,6,7]\n",
    "\n",
    "for n in numbers:\n",
    "    lst = list(product(range(0,10), repeat = n))\n",
    "    xk = np.arange(n + 1)\n",
    "    p = dis_function(lst, n)\n",
    "    e = expectation(xk, p)\n",
    "    d = expectation(xk**2, p) - e**2\n",
    "    print('n = {}: E = {}; D = {}'.format(n, e, d))"
   ]
  },
  {
   "cell_type": "markdown",
   "metadata": {
    "collapsed": false
   },
   "source": [
    "## 3 Максимальне значення"
   ]
  },
  {
   "cell_type": "markdown",
   "metadata": {
    "collapsed": false
   },
   "source": [
    "Нехай випадкова величина $\\xi$ - це максимальне значення після $n$ кидків грального кубика.\n",
    "\n",
    "Напишіть функцію для обрахунку математичного сподівання та дисперсії випадкової величини $\\xi$ в залежності від кількості $n$ кидків кубика методом повного перебору.\n",
    "Виведіть результат для $n = 1, 2, 3, 4, 5, 6, 7, 8, 9.$\n",
    "\n",
    "Напишіть теоретичну формулу для математичного сподівання та дисперсії випадкової величини $\\xi$.\n",
    "Порівняйте теоретичні значення з обчисленими повним перебором."
   ]
  },
  {
   "cell_type": "code",
   "execution_count": 1,
   "metadata": {
    "collapsed": false
   },
   "outputs": [
    {
     "name": "stdout",
     "output_type": "stream",
     "text": [
      "--------------------For n = 1----------------------\n",
      "Expectation is: 3.5\n",
      "Variation is: 2.916666666666668\n",
      "Theor expectation is: 3.5\n",
      "Theor variation is: 2.916666666666666\n",
      "\n",
      "--------------------For n = 2----------------------\n",
      "Expectation is: 4.472222222222222\n",
      "Variation is: 1.9714506172839492\n",
      "Theor expectation is: 4.472222222222222\n",
      "Theor variation is: 1.9714506172839492\n",
      "\n",
      "--------------------For n = 3----------------------\n",
      "Expectation is: 4.958333333333333\n",
      "Variation is: 1.3084490740740762\n",
      "Theor expectation is: 4.958333333333333\n",
      "Theor variation is: 1.3084490740740762\n",
      "\n",
      "--------------------For n = 4----------------------\n",
      "Expectation is: 5.244598765432098\n",
      "Variation is: 0.9100788513565092\n",
      "Theor expectation is: 5.244598765432099\n",
      "Theor variation is: 0.9100788513564986\n",
      "\n",
      "--------------------For n = 5----------------------\n",
      "Expectation is: 5.4309413580246915\n",
      "Variation is: 0.6593255541742877\n",
      "Theor expectation is: 5.4309413580246915\n",
      "Theor variation is: 0.6593255541742877\n",
      "\n",
      "--------------------For n = 6----------------------\n",
      "Expectation is: 5.560292352537722\n",
      "Variation is: 0.4928497430622407\n",
      "Theor expectation is: 5.560292352537722\n",
      "Theor variation is: 0.49284974306223717\n",
      "\n",
      "--------------------For n = 7----------------------\n"
     ]
    },
    {
     "name": "stdout",
     "output_type": "stream",
     "text": [
      "Expectation is: 5.654117369684499\n",
      "Variation is: 0.3773252254790407\n",
      "Theor expectation is: 5.6541173696845\n",
      "Theor variation is: 0.3773252254790407\n",
      "\n",
      "--------------------For n = 8----------------------\n"
     ]
    }
   ],
   "source": [
    "from itertools import product\n",
    "\n",
    "def prob(n):\n",
    "    l = [0 for i in range(10)]\n",
    "    lst = list(product(range(1, 7), repeat=n))\n",
    "    for p in lst:\n",
    "        l[max(p)]+=1\n",
    "    e = 0\n",
    "    e1 = 0\n",
    "    for k in range(10):\n",
    "        e += k * l[k] / 6**n\n",
    "        e1 += k**2 * l[k] / 6**n\n",
    "    print(\"Expectation is:\",e)\n",
    "    print(\"Variation is:\", e1-e**2)\n",
    "    \n",
    "def theor(n):\n",
    "    e = 0\n",
    "    e1 = 0\n",
    "    for i in range(1,7):\n",
    "        p = ((i)**n-(i-1)**n)/6**n\n",
    "        e += i * p\n",
    "        e1 += i**2*p\n",
    "    print(\"Theor expectation is:\",e)\n",
    "    print(\"Theor variation is:\",e1-e**2)\n",
    "\n",
    "n = [1,2,3,4,5,6,7,8,9]\n",
    "for n1 in n:\n",
    "    print('--------------------For n = {}----------------------'.format(n1))\n",
    "    prob(n1)\n",
    "    theor(n1)\n",
    "    print()"
   ]
  },
  {
   "cell_type": "markdown",
   "metadata": {
    "collapsed": false
   },
   "source": [
    "## 4 Сума значень"
   ]
  },
  {
   "cell_type": "markdown",
   "metadata": {
    "collapsed": false
   },
   "source": [
    "Нехай випадкова величина $\\xi$ - це сума значень після $n$ кидків грального кубика (сума цифр, що випали).\n",
    "\n",
    "Напишіть функцію для обрахунку математичного сподівання та дисперсії випадкової величини $\\xi$ в залежності від кількості $n$ кидків кубика методом повного перебору.\n",
    "Виведіть результат для $n = 1, 2, 3, 5, 7, 8.$\n",
    "\n",
    "Напишіть теоретичну формулу для математичного сподівання та дисперсії випадкової величини $\\xi$.\n",
    "Порівняйте теоретичні значення з обчисленими повним перебором."
   ]
  },
  {
   "cell_type": "code",
   "execution_count": 2,
   "metadata": {
    "collapsed": false
   },
   "outputs": [
    {
     "name": "stdout",
     "output_type": "stream",
     "text": [
      "-------------For n = 1-------------------\n",
      "Expectation is: 3.5\n",
      "Variation is: 2.916666666666668\n",
      "Theor expectation is: 3.5\n",
      "Theor variation is: 2.916666666666668\n",
      "\n",
      "-------------For n = 2-------------------\n",
      "Expectation is: 7.000000000000001\n",
      "Variation is: 5.833333333333314\n",
      "Theor expectation is: 7.0\n",
      "Theor variation is: 5.833333333333336\n",
      "\n",
      "-------------For n = 3-------------------\n",
      "Expectation is: 10.5\n",
      "Variation is: 8.750000000000014\n",
      "Theor expectation is: 10.5\n",
      "Theor variation is: 8.750000000000004\n",
      "\n",
      "-------------For n = 5-------------------\n",
      "Expectation is: 17.5\n",
      "Variation is: 14.583333333333371\n",
      "Theor expectation is: 17.5\n",
      "Theor variation is: 14.58333333333334\n",
      "\n",
      "-------------For n = 7-------------------\n"
     ]
    },
    {
     "name": "stdout",
     "output_type": "stream",
     "text": [
      "Expectation is: 24.5\n",
      "Variation is: 20.41666666666663\n",
      "Theor expectation is: 24.5\n",
      "Theor variation is: 20.416666666666675\n",
      "\n",
      "-------------For n = 8-------------------\n"
     ]
    },
    {
     "name": "stdout",
     "output_type": "stream",
     "text": [
      "Expectation is: 28.000000000000007\n",
      "Variation is: 23.33333333333303\n",
      "Theor expectation is: 28.0\n",
      "Theor variation is: 23.333333333333343\n",
      "\n"
     ]
    }
   ],
   "source": [
    "from itertools import product\n",
    "\n",
    "def prob(n):\n",
    "    l = [0 for i in range(6*n+1)]\n",
    "    lst = list(product(range(1, 7), repeat=n))\n",
    "    for p in lst:\n",
    "        l[sum(p)]+=1\n",
    "    e = 0\n",
    "    e1 = 0\n",
    "    for k in range(len(l)):\n",
    "        e += k * l[k] / sum(l)\n",
    "        e1 += k**2 * l[k] / sum(l)\n",
    "    print(\"Expectation is:\",e)\n",
    "    print(\"Variation is:\", e1-e**2)\n",
    "\n",
    "def theor(n):\n",
    "    e = 0\n",
    "    e1 = 0\n",
    "    for i in range(1,7):\n",
    "        e += i / 6\n",
    "        e1 += i**2/6\n",
    "    d = n * (e1-e**2)\n",
    "    e*= n\n",
    "    print(\"Theor expectation is:\",e)\n",
    "    print(\"Theor variation is:\",d)\n",
    "    \n",
    "n = [1,2,3,5,7,8]\n",
    "\n",
    "for n1 in n:\n",
    "    print('-------------For n = {}-------------------'.format(n1))\n",
    "    prob(n1)\n",
    "    theor(n1)\n",
    "    print()"
   ]
  },
  {
   "cell_type": "markdown",
   "metadata": {
    "collapsed": false
   },
   "source": [
    "## 5 Парадокс днів народження"
   ]
  },
  {
   "cell_type": "markdown",
   "metadata": {
    "collapsed": false
   },
   "source": [
    "Нехай маємо $n$ людей.\n",
    "Їх дні народження припадають на один з 12 місяців.\n",
    "Нехай тоді випадкова величина $\\xi$ - це кількість співпадінь місяців народжень серед цих $n$ людей.\n",
    "\n",
    "Напишіть функцію для обрахунку математичного сподівання та дисперсії випадкової величини $\\xi$ в залежності від кількості $n$ людей методом повного перебору.\n",
    "Виведіть результат для $n = 1, 2, 3, 4, 5, 6.$\n",
    "\n",
    "Для якого $n$ виконується $\\mathsf{E}\\left[ \\xi \\right] \\geq 1$?\n",
    "\n",
    "**Зауваження.** Кількість співпадінь означає кількість однакових пар. Наприклад,\n",
    "- у наборі $\\{ 1, 1, 2, 3 \\}$ є одна пара;\n",
    "- у наборі $\\{ 1, 1, 1, 3 \\}$ є три пари;\n",
    "- у наборі $\\{ 1, 1, 1, 1 \\}$ є шість пар."
   ]
  },
  {
   "cell_type": "code",
   "execution_count": 3,
   "metadata": {
    "collapsed": false
   },
   "outputs": [
    {
     "name": "stdout",
     "output_type": "stream",
     "text": [
      "n = 1\n",
      "Expectation: 0.0\n",
      "Variation: 0.0\n",
      "\n",
      "n = 2\n",
      "Expectation: 0.08333333333333333\n",
      "Variation: 0.07638888888888888\n",
      "\n",
      "n = 3\n",
      "Expectation: 0.25\n",
      "Variation: 0.22916666666666669\n",
      "\n",
      "n = 4\n",
      "Expectation: 0.5\n",
      "Variation: 0.45833333333333337\n",
      "\n"
     ]
    },
    {
     "name": "stdout",
     "output_type": "stream",
     "text": [
      "n = 5\n",
      "Expectation: 0.8333333333333334\n",
      "Variation: 0.7638888888888887\n",
      "\n"
     ]
    },
    {
     "name": "stdout",
     "output_type": "stream",
     "text": [
      "n = 6\n",
      "Expectation: 1.25\n",
      "Variation: 1.1458333333333335\n",
      "\n",
      "𝖤[ξ]≥1 for n = 6\n"
     ]
    }
   ],
   "source": [
    "from itertools import product\n",
    "\n",
    "def ex(n):\n",
    "    res = {}\n",
    "    lst = list(product(range(1, 13), repeat=n))\n",
    "    for p in lst:\n",
    "        equal = 0\n",
    "        for i in range(len(p)):\n",
    "            for j in range(i+1, len(p)):\n",
    "                if p[i] == p[j]: \n",
    "                    equal += 1\n",
    "        \n",
    "        if not equal in res: \n",
    "            res[equal] = 1\n",
    "        else: \n",
    "            res[equal] += 1\n",
    "    e = 0\n",
    "    e1 = 0\n",
    "    for k,v in res.items():\n",
    "        e += k*v\n",
    "        e1 += (k**2)*v\n",
    "    e /= 12**n\n",
    "    e1 /= 12**n\n",
    "    d = e1 - e**2\n",
    "    return e, d\n",
    "    \n",
    "for i in range(1,7):\n",
    "    e, d = ex(i)\n",
    "    print('n =',i)\n",
    "    print('Expectation:',e)\n",
    "    print('Variation:',d)\n",
    "    print()\n",
    "print('𝖤[ξ]≥1 for n = 6')"
   ]
  },
  {
   "cell_type": "code",
   "execution_count": 0,
   "metadata": {
    "collapsed": false
   },
   "outputs": [
   ],
   "source": [
    "\n"
   ]
  }
 ],
 "metadata": {
  "kernelspec": {
   "display_name": "Python 3 (Ubuntu Linux)",
   "language": "python",
   "metadata": {
    "cocalc": {
     "description": "Python 3 programming language",
     "priority": 100,
     "url": "https://www.python.org/"
    }
   },
   "name": "python3"
  },
  "language_info": {
   "codemirror_mode": {
    "name": "ipython",
    "version": 3
   },
   "file_extension": ".py",
   "mimetype": "text/x-python",
   "name": "python",
   "nbconvert_exporter": "python",
   "pygments_lexer": "ipython3",
   "version": "3.6.7"
  }
 },
 "nbformat": 4,
 "nbformat_minor": 0
}