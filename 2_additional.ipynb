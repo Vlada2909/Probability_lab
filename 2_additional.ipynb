{
 "cells": [
  {
   "cell_type": "code",
   "execution_count": 1,
   "metadata": {
    "collapsed": false
   },
   "outputs": [
    {
     "data": {
      "image/png": "[encoded data removed]"
     },
     "execution_count": 1,
     "metadata": {
     },
     "output_type": "execute_result"
    }
   ],
   "source": [
    "#first task\n",
    "import numpy as np\n",
    "from matplotlib import pyplot as plt\n",
    "\n",
    "\n",
    "def prob_e(n):\n",
    "    omega = ['H', 'T']\n",
    "    tosses = list(np.random.choice(omega, n))\n",
    "    return tosses.count('H')/float(n)\n",
    "\n",
    "\n",
    "for n in range(1, 1000):\n",
    "    prob = prob_e(n)\n",
    "    plt.scatter(n, prob, 1)\n",
    "plt.ylim(0, 1) \n",
    "plt.show()\n"
   ]
  },
  {
   "cell_type": "code",
   "execution_count": 2,
   "metadata": {
    "collapsed": false
   },
   "outputs": [
    {
     "name": "stdout",
     "output_type": "stream",
     "text": [
      "For f = [2, 5, 8], x_max = 8:\n",
      "        Empirical probability is 0.1256\n",
      "        Theoretical probability is 0.125\n",
      "\n",
      "For f = [3, 4], x_max = 2:\n",
      "        Empirical probability is 0.2565\n",
      "        Theoretical probability is 0.25\n",
      "\n",
      "For f = [2, 5, 7, 3], x_max = 3:\n",
      "        Empirical probability is 0.1766\n",
      "        Theoretical probability is 0.180952380952\n",
      "\n"
     ]
    }
   ],
   "source": [
    "#second task\n",
    "\n",
    "import numpy as np\n",
    "from itertools import product\n",
    "\n",
    "\n",
    "def prob_t(f, x_max):\n",
    "    if not (1 <= x_max <= max(f)):\n",
    "        return 0\n",
    "    omega = list(product(*[list(range(1, n + 1)) for n in f]))\n",
    "    return len(list(filter(lambda t: max(t) == x_max, omega)))/float(len(omega))\n",
    "\n",
    "def prob_e(f, x_max):\n",
    "    if not (1 <= x_max <= max(f)):\n",
    "        return 0\n",
    "    tests = 10000\n",
    "    omega = list(product(*[list(range(1, n + 1)) for n in f]))\n",
    "    counter = 0\n",
    "    for i in range(tests):\n",
    "        toss = omega[np.random.randint(0, len(omega))]\n",
    "        if max(toss) == x_max:\n",
    "            counter += 1\n",
    "    return counter/float(tests)\n",
    "\n",
    "\n",
    "def test(f, x_max):\n",
    "    print(\"For f = {}, x_max = {}:\\n \\\n",
    "       Empirical probability is {}\\n \\\n",
    "       Theoretical probability is {}\\n\".format(f, x_max, prob_e(f, x_max), prob_t(f, x_max)))\n",
    "\n",
    "test([2, 5, 8], 8)\n",
    "test([3, 4], 2)\n",
    "test([2, 5, 7, 3], 3)"
   ]
  },
  {
   "cell_type": "code",
   "execution_count": 3,
   "metadata": {
    "collapsed": false
   },
   "outputs": [
    {
     "name": "stdout",
     "output_type": "stream",
     "text": [
      "For f = [3, 4, 5], s = 13:\n",
      "        Empirical probability is 0\n",
      "        Theoretical probability is 0\n",
      "\n",
      "For f = [2, 2], s = 3:\n",
      "        Empirical probability is 0.5024\n",
      "        Theoretical probability is 0.5\n",
      "\n",
      "For f = [3, 4, 5], s = 7:\n",
      "        Empirical probability is 0.1895\n",
      "        Theoretical probability is 0.183333333333\n",
      "\n"
     ]
    }
   ],
   "source": [
    "#third task\n",
    "\n",
    "import numpy as np\n",
    "from itertools import product\n",
    "\n",
    "\n",
    "def prob_t(f, s):\n",
    "    if not (min(f) <= s <= sum(f)):\n",
    "        return 0\n",
    "    omega = list(product(*[list(range(1, n + 1)) for n in f]))\n",
    "    return len(list(filter(lambda t: sum(t) == s, omega)))/float(len(omega))\n",
    "\n",
    "def prob_e(f, s):\n",
    "    if not (min(f) <= s <= sum(f)):\n",
    "        return 0\n",
    "    tests = 10000\n",
    "    omega = list(product(*[list(range(1, n + 1)) for n in f]))\n",
    "    counter = 0\n",
    "    for i in range(tests):\n",
    "        toss = omega[np.random.randint(0, len(omega))]\n",
    "        if sum(toss) == s:\n",
    "            counter += 1\n",
    "    return counter/float(tests)\n",
    "\n",
    "\n",
    "def test(f, s):\n",
    "    print(\"For f = {}, s = {}:\\n \\\n",
    "       Empirical probability is {}\\n \\\n",
    "       Theoretical probability is {}\\n\".format(f, s, prob_e(f, s), prob_t(f, s)))\n",
    "\n",
    "test([3, 4, 5], 13)\n",
    "test([2, 2], 3)\n",
    "test([3, 4, 5], 7)"
   ]
  },
  {
   "cell_type": "code",
   "execution_count": 0,
   "metadata": {
    "collapsed": false
   },
   "outputs": [
   ],
   "source": [
   ]
  }
 ],
 "metadata": {
  "kernelspec": {
   "display_name": "SageMath (stable)",
   "language": "sagemath",
   "metadata": {
    "cocalc": {
     "description": "Open-source mathematical software system",
     "priority": 10,
     "url": "https://www.sagemath.org/"
    }
   },
   "name": "sagemath"
  },
  "language_info": {
   "codemirror_mode": {
    "name": "ipython",
    "version": 2
   },
   "file_extension": ".py",
   "mimetype": "text/x-python",
   "name": "python",
   "nbconvert_exporter": "python",
   "pygments_lexer": "ipython2",
   "version": "2.7.15"
  }
 },
 "nbformat": 4,
 "nbformat_minor": 0
}