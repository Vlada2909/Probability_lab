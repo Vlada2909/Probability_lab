{
 "cells": [
  {
   "cell_type": "code",
   "execution_count": 1,
   "metadata": {
    "collapsed": false
   },
   "outputs": [
    {
     "name": "stdout",
     "output_type": "stream",
     "text": [
      "Theoretical prob for 1 different numbers is 3/1000\n"
     ]
    },
    {
     "name": "stdout",
     "output_type": "stream",
     "text": [
      "Empirical prob for 1 different numbers is 2213/20000\n",
      "Theoretical prob for 2 different numbers is 9/500\n"
     ]
    },
    {
     "name": "stdout",
     "output_type": "stream",
     "text": [
      "Empirical prob for 2 different numbers is 2076/3125\n",
      "Theoretical prob for 3 different numbers is 3/500\n"
     ]
    },
    {
     "name": "stdout",
     "output_type": "stream",
     "text": [
      "Empirical prob for 3 different numbers is 2211/10000\n"
     ]
    }
   ],
   "source": [
    "# first task\n",
    "from itertools import product\n",
    "import numpy as np\n",
    "numbers = range(10)\n",
    " \n",
    "def teor_prob(p):\n",
    "    a = list(product(numbers, repeat = 3))\n",
    "    b = []\n",
    "    for x in a:\n",
    "        if len(set(x)) == p:\n",
    "           b.append(x)\n",
    "    return len(b)/10**3\n",
    "\n",
    "def emperical_prob(p):\n",
    "    a = []\n",
    "    b = []\n",
    "    for i in range(100000):\n",
    "        l = list(np.random.choice(numbers, size=3))\n",
    "        a.append(l)\n",
    "    for x in a:\n",
    "        if len(set(x)) == p:\n",
    "            b.append(x)\n",
    "    return len(b)\n",
    "\n",
    "\n",
    "numbers = [1,2,3]\n",
    "for i in numbers:\n",
    "    print(\"Theoretical prob for {} different numbers is {}\".format(i, teor_prob(i)))\n",
    "    res = emperical_prob(i)\n",
    "    print(\"Empirical prob for {} different numbers is {}\".format(i, res/100000))"
   ]
  },
  {
   "cell_type": "code",
   "execution_count": 0,
   "metadata": {
    "collapsed": false
   },
   "outputs": [
   ],
   "source": [
    "\n"
   ]
  },
  {
   "cell_type": "code",
   "execution_count": 2,
   "metadata": {
    "collapsed": false
   },
   "outputs": [
   ],
   "source": [
   ]
  },
  {
   "cell_type": "code",
   "execution_count": 4,
   "metadata": {
    "collapsed": false
   },
   "outputs": [
    {
     "name": "stdout",
     "output_type": "stream",
     "text": [
      "('n =', 10, 'Theoretical prob:', ('even:', 0.5205046299279227, 'odd', 0.47949537007207715))\n"
     ]
    },
    {
     "name": "stdout",
     "output_type": "stream",
     "text": [
      "('Empirical prob:', ('even:', 1309/2500, 'odd:', 1191/2500))\n",
      "('n =', 25, 'Theoretical prob:', ('even:', 0.5073640739858903, 'odd', 0.49263592601410955))\n"
     ]
    },
    {
     "name": "stdout",
     "output_type": "stream",
     "text": [
      "('Empirical prob:', ('even:', 6361/12500, 'odd:', 6139/12500))\n"
     ]
    }
   ],
   "source": [
    "#fourth task\n",
    "import numpy as np\n",
    "\n",
    "def task4_t(n):\n",
    "    num = list(range(1, 2 * n + 1))\n",
    "    logs = []\n",
    "    for i in num:\n",
    "        a = np.log(i)\n",
    "        logs.append(a)\n",
    "\n",
    "    c = (1/sum(logs))\n",
    "    lst = []\n",
    "    for i in logs:\n",
    "        b = i*c\n",
    "        lst.append(b)\n",
    "\n",
    "    sum_even = 0\n",
    "    sum_odd = 0\n",
    "    for i in lst[1::2]:\n",
    "        sum_even += i\n",
    "    for j in lst[::2]:\n",
    "        sum_odd += j\n",
    "\n",
    "    return \"even:\",sum_even,\"odd\", sum_odd\n",
    "\n",
    "\n",
    "def task4_emp(n):\n",
    "    even = 0\n",
    "    odd = 0\n",
    "    for i in range(100000):\n",
    "        num = np.random.randint(0, 2*n + 1)\n",
    "        if num % 2 == 0:\n",
    "            even += 1\n",
    "        else:\n",
    "            odd += 1\n",
    "    return \"even:\",even / 10**5, \"odd:\", odd / 10**5\n",
    "\n",
    "\n",
    "for n in [10, 25]:\n",
    "    print( \"n =\", n,\"Theoretical prob:\",task4_t(n))\n",
    "    print(\"Empirical prob:\",task4_emp(n))"
   ]
  },
  {
   "cell_type": "code",
   "execution_count": 0,
   "metadata": {
    "collapsed": false
   },
   "outputs": [
   ],
   "source": [
   ]
  }
 ],
 "metadata": {
  "kernelspec": {
   "display_name": "SageMath (stable)",
   "language": "sagemath",
   "name": "sagemath"
  },
  "language_info": {
   "codemirror_mode": {
    "name": "ipython",
    "version": 2
   },
   "file_extension": ".py",
   "mimetype": "text/x-python",
   "name": "python",
   "nbconvert_exporter": "python",
   "pygments_lexer": "ipython2",
   "version": "2.7.15"
  }
 },
 "nbformat": 4,
 "nbformat_minor": 0
}