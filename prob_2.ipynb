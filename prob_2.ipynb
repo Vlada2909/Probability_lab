{
 "cells": [
  {
   "cell_type": "code",
   "execution_count": 1,
   "metadata": {
    "collapsed": false
   },
   "outputs": [
    {
     "name": "stdout",
     "output_type": "stream",
     "text": [
      "_%+4tveP{1\n"
     ]
    }
   ],
   "source": [
    "# first task\n",
    "import numpy as np\n",
    "\n",
    "a1 = [1, 2, 3, 4, 5, 6, 7, 8, 9, 0]\n",
    "a2 = [chr(i) for i in range(ord('a'), ord('z')+1)]\n",
    "a3 = [chr(i) for i in range(ord('A'), ord('Z')+1)]\n",
    "a4 = list('~!@#$%^&*()-_+=\\/{}[].,?<>:;')\n",
    "p = [a1, a2, a3, a4]\n",
    "ans = [np.random.choice(i) for i in p]\n",
    "ans1 = list(np.random.choice(a1 + a2 +a3 +a4,size = 6))\n",
    "pas = ans + ans1\n",
    "np.random.shuffle(pas)\n",
    "print(''.join(list(map(str, pas))))"
   ]
  },
  {
   "cell_type": "code",
   "execution_count": 4,
   "metadata": {
    "collapsed": false
   },
   "outputs": [
    {
     "name": "stdout",
     "output_type": "stream",
     "text": [
      "Ймовірність випадіння 2 гербів при n = 10 : 2/5\n",
      "Ймовірність випадіння 3 гербів при n = 10 : 3/10\n",
      "Ймовірність випадіння 2 гербів при n = 50 : 9/50\n",
      "Ймовірність випадіння 3 гербів при n = 50 : 1/25\n",
      "Ймовірність випадіння 2 гербів при n = 100 : 11/50\n",
      "Ймовірність випадіння 3 гербів при n = 100 : 11/100\n",
      "Ймовірність випадіння 2 гербів при n = 500 : 117/500\n",
      "Ймовірність випадіння 3 гербів при n = 500 : 27/250\n",
      "Ймовірність випадіння 2 гербів при n = 1000 : 11/40\n",
      "Ймовірність випадіння 3 гербів при n = 1000 : 3/20\n",
      "Ймовірність випадіння 2 гербів при n = 5000 : 152/625\n",
      "Ймовірність випадіння 3 гербів при n = 5000 : 73/625\n",
      "Ймовірність випадіння 2 гербів при n = 10000 : 129/500\n",
      "Ймовірність випадіння 3 гербів при n = 10000 : 663/5000\n"
     ]
    }
   ],
   "source": [
    "# second task\n",
    "import numpy as np\n",
    "\n",
    "def check_repeats(list1,k):\n",
    "    count = 0\n",
    "    heads = []\n",
    "    for i in range(k):\n",
    "        heads.append('H')\n",
    "    for j in range(k,len(list1) + 1):\n",
    "        if list1[j-k:j] == heads:\n",
    "            count += 1\n",
    "    return count\n",
    "\n",
    "n = [10,50, 100, 500, 1000, 5000, 10000]\n",
    "k = [2, 3]\n",
    "p = 0.5\n",
    "for i in n:\n",
    "    tosses = np.random.choice([\"H\",\"T\"],p = [p,1-p], size = i)\n",
    "    #print(list(tosses))\n",
    "    for j in k:\n",
    "        print(\"Ймовірність випадіння {} гербів при n = {} : {}\".format(j,i,check_repeats(list(tosses),j)/i))"
   ]
  },
  {
   "cell_type": "code",
   "execution_count": 0,
   "metadata": {
    "collapsed": false
   },
   "outputs": [
   ],
   "source": [
   ]
  },
  {
   "cell_type": "code",
   "execution_count": 7,
   "metadata": {
    "collapsed": false
   },
   "outputs": [
    {
     "name": "stdout",
     "output_type": "stream",
     "text": [
      "n = 3, x_max = 6\n",
      "('Our theoretical probability:', 0)\n"
     ]
    },
    {
     "name": "stdout",
     "output_type": "stream",
     "text": [
      "('Empirical probability:', 4301/10000)\n",
      "n = 2, x_max = 3\n",
      "('Our theoretical probability:', 0)\n"
     ]
    },
    {
     "name": "stdout",
     "output_type": "stream",
     "text": [
      "('Empirical probability:', 1323/10000)\n",
      "n = 3, x_max = 5\n",
      "('Our theoretical probability:', 0)\n"
     ]
    },
    {
     "name": "stdout",
     "output_type": "stream",
     "text": [
      "('Empirical probability:', 2831/10000)\n"
     ]
    }
   ],
   "source": [
    "# third task\n",
    "import numpy as np\n",
    "import itertools\n",
    "\n",
    "def prob(n,x_max):\n",
    "    lst = list(itertools.product(val, repeat=n))\n",
    "    print('n = {}, x_max = {}'.format(n, x_max))\n",
    "    a = []\n",
    "    for x in lst:\n",
    "        if max(x) == x_max:\n",
    "            a.append(x)\n",
    "    return (len(a) / len(lst))\n",
    "\n",
    "N = 10000\n",
    "val = [1, 2, 3, 4, 5 ,6]\n",
    "p = [[3 ,6], [2,3], [3,5]]\n",
    "\n",
    "for n, x_max in p:\n",
    "    if (x_max >=1) or (x_max<=6): \n",
    "        print('Our theoretical probability:',prob(n,x_max))\n",
    "        b = [max(np.random.choice(val, size=n)) for i in range(N)]\n",
    "        print('Empirical probability:', (b.count(x_max)/N))\n",
    "    else:\n",
    "        print(0)"
   ]
  },
  {
   "cell_type": "code",
   "execution_count": 8,
   "metadata": {
    "collapsed": false
   },
   "outputs": [
    {
     "name": "stdout",
     "output_type": "stream",
     "text": [
      "n = 3, sum = 13\n",
      "('Our theoretical probability:', 0)\n"
     ]
    },
    {
     "name": "stdout",
     "output_type": "stream",
     "text": [
      "('Empirical probability:', 951/10000)\n",
      "n = 2, sum = 5\n",
      "('Our theoretical probability:', 0)\n"
     ]
    },
    {
     "name": "stdout",
     "output_type": "stream",
     "text": [
      "('Empirical probability:', 9/80)\n",
      "n = 3, sum = 7\n",
      "('Our theoretical probability:', 0)\n"
     ]
    },
    {
     "name": "stdout",
     "output_type": "stream",
     "text": [
      "('Empirical probability:', 167/2500)\n"
     ]
    }
   ],
   "source": [
    "# fourth task\n",
    "import itertools\n",
    "import numpy as np\n",
    "\n",
    "def prob(n, s):\n",
    "    lst = list(itertools.product(val, repeat=n))\n",
    "    print('n = {}, sum = {}'.format(n, s))\n",
    "    a = []\n",
    "    for x in lst:\n",
    "        if sum(x) == s:\n",
    "            a.append(x)\n",
    "    return (len(a) / len(lst))\n",
    "\n",
    "N = 10000\n",
    "val = [1,2,3,4,5,6]\n",
    "p = [[3, 13], [2, 5], [3, 7]]\n",
    "for n, s in p:\n",
    "    if (s< n) or ( s > 6*n):\n",
    "        print(0)\n",
    "    else:\n",
    "        print('Our theoretical probability:',prob(n,s))\n",
    "        b = [sum(np.random.choice(val, size=n)) for i in range(N)]\n",
    "        print('Empirical probability:', (b.count(s)/N))"
   ]
  },
  {
   "cell_type": "code",
   "execution_count": 0,
   "metadata": {
    "collapsed": false
   },
   "outputs": [
   ],
   "source": [
   ]
  }
 ],
 "metadata": {
  "kernelspec": {
   "display_name": "SageMath (stable)",
   "language": "sagemath",
   "name": "sagemath"
  },
  "language_info": {
   "codemirror_mode": {
    "name": "ipython",
    "version": 2
   },
   "file_extension": ".py",
   "mimetype": "text/x-python",
   "name": "python",
   "nbconvert_exporter": "python",
   "pygments_lexer": "ipython2",
   "version": "2.7.15"
  }
 },
 "nbformat": 4,
 "nbformat_minor": 0
}